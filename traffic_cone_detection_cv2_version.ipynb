{
 "cells": [
  {
   "cell_type": "code",
   "execution_count": 1,
   "metadata": {},
   "outputs": [],
   "source": [
    "#loading dependencies\n",
    "import cv2\n",
    "import imutils\n",
    "import numpy as np\n",
    "import matplotlib.pyplot as plt"
   ]
  },
  {
   "cell_type": "code",
   "execution_count": 2,
   "metadata": {},
   "outputs": [
    {
     "data": {
      "text/plain": [
       "107"
      ]
     },
     "execution_count": 2,
     "metadata": {},
     "output_type": "execute_result"
    }
   ],
   "source": [
    "#Loading Image\n",
    "image = cv2.imread(\"Desktop/contour.jpeg\")\n",
    "cv2.imshow(\"Image\",image)\n",
    "cv2.waitKey(0)"
   ]
  },
  {
   "cell_type": "code",
   "execution_count": 3,
   "metadata": {},
   "outputs": [
    {
     "data": {
      "text/plain": [
       "109"
      ]
     },
     "execution_count": 3,
     "metadata": {},
     "output_type": "execute_result"
    }
   ],
   "source": [
    "#Blurring\n",
    "blurred = cv2.GaussianBlur(image, (15, 15), 0)\n",
    "cv2.imshow(\"Blurred\",blurred)\n",
    "cv2.waitKey(0)"
   ]
  },
  {
   "cell_type": "code",
   "execution_count": 4,
   "metadata": {},
   "outputs": [
    {
     "data": {
      "text/plain": [
       "106"
      ]
     },
     "execution_count": 4,
     "metadata": {},
     "output_type": "execute_result"
    }
   ],
   "source": [
    "#Denoising\n",
    "dst = cv2.fastNlMeansDenoisingColored(blurred,None,10,10,7,21)\n",
    "cv2.imshow(\"Denoised\",dst)\n",
    "cv2.waitKey(0)"
   ]
  },
  {
   "cell_type": "code",
   "execution_count": 5,
   "metadata": {},
   "outputs": [
    {
     "data": {
      "text/plain": [
       "106"
      ]
     },
     "execution_count": 5,
     "metadata": {},
     "output_type": "execute_result"
    }
   ],
   "source": [
    "#BGR to RGB\n",
    "rgb_img = cv2.cvtColor(dst, cv2.COLOR_BGR2RGB)\n",
    "cv2.imshow(\"RGB\",rgb_img)\n",
    "cv2.waitKey(0)"
   ]
  },
  {
   "cell_type": "code",
   "execution_count": 6,
   "metadata": {},
   "outputs": [
    {
     "data": {
      "text/plain": [
       "106"
      ]
     },
     "execution_count": 6,
     "metadata": {},
     "output_type": "execute_result"
    }
   ],
   "source": [
    "#RGB to HSV\n",
    "hsv_img = cv2.cvtColor(rgb_img, cv2.COLOR_RGB2HSV)\n",
    "cv2.imshow(\"HSV\",hsv_img)\n",
    "cv2.waitKey(0)"
   ]
  },
  {
   "cell_type": "code",
   "execution_count": 7,
   "metadata": {},
   "outputs": [],
   "source": [
    "#----Mask formation for orange and green cone----"
   ]
  },
  {
   "cell_type": "code",
   "execution_count": 8,
   "metadata": {},
   "outputs": [],
   "source": [
    "#Orange cone range of HSV\n",
    "light_orange = (1, 200, 220)\n",
    "dark_orange = (18, 255, 255)\n",
    "#Orange cone mask\n",
    "mask1 = cv2.inRange(hsv_img, light_orange, dark_orange)"
   ]
  },
  {
   "cell_type": "code",
   "execution_count": 9,
   "metadata": {},
   "outputs": [],
   "source": [
    "#Green cone range of HSV\n",
    "light_green = (36, 0, 0)\n",
    "dark_green = (86, 255, 255)\n",
    "#Green cone mask\n",
    "mask2 = cv2.inRange(hsv_img, light_green, dark_green)"
   ]
  },
  {
   "cell_type": "code",
   "execution_count": 10,
   "metadata": {},
   "outputs": [
    {
     "data": {
      "text/plain": [
       "106"
      ]
     },
     "execution_count": 10,
     "metadata": {},
     "output_type": "execute_result"
    }
   ],
   "source": [
    "mask = mask1+mask2\n",
    "cv2.imshow(\"Mask\",mask)\n",
    "cv2.waitKey(0)"
   ]
  },
  {
   "cell_type": "code",
   "execution_count": 11,
   "metadata": {},
   "outputs": [
    {
     "data": {
      "text/plain": [
       "104"
      ]
     },
     "execution_count": 11,
     "metadata": {},
     "output_type": "execute_result"
    }
   ],
   "source": [
    "#Masked environment and cones\n",
    "result = cv2.bitwise_and(image, image, mask=mask)\n",
    "cv2.imshow(\"Result\",result)\n",
    "cv2.waitKey(0)"
   ]
  },
  {
   "cell_type": "code",
   "execution_count": 12,
   "metadata": {},
   "outputs": [],
   "source": [
    "#----Contour detection----"
   ]
  },
  {
   "cell_type": "code",
   "execution_count": 13,
   "metadata": {},
   "outputs": [],
   "source": [
    "cnts = cv2.findContours(mask.copy(), cv2.RETR_EXTERNAL,cv2.CHAIN_APPROX_SIMPLE)\n",
    "cnts = imutils.grab_contours(cnts)\n",
    "output = image.copy()"
   ]
  },
  {
   "cell_type": "code",
   "execution_count": 14,
   "metadata": {},
   "outputs": [],
   "source": [
    "for c in cnts:\n",
    "#Defining threshold values to prevent contouring of very small detected objects (noise)\n",
    "    x = 266.0\n",
    "    if cv2.contourArea(c) > x:\n",
    "        x, y, w, h = cv2.boundingRect(c)\n",
    "        M = cv2.moments(c)\n",
    "        cX = int(M[\"m10\"] / M[\"m00\"])\n",
    "        cY = int(M[\"m01\"] / M[\"m00\"])\n",
    "        #cv2.drawContours(output, [c], 0, (0,255,0), 3)\n",
    "        cv2.rectangle(output, (x, y), (x+w, y+h), (0, 255, 0), 3)\n",
    "        cv2.circle(output, (cX, cY), 3, (0, 255, 0), -1)"
   ]
  },
  {
   "cell_type": "code",
   "execution_count": 15,
   "metadata": {
    "scrolled": true
   },
   "outputs": [
    {
     "data": {
      "text/plain": [
       "106"
      ]
     },
     "execution_count": 15,
     "metadata": {},
     "output_type": "execute_result"
    }
   ],
   "source": [
    "final = output.copy()\n",
    "cv2.line(final, (650, 0), (650, 720), (255, 0, 0), 5)\n",
    "cv2.imshow(\"Contours and VF\", final)\n",
    "cv2.waitKey(0)"
   ]
  },
  {
   "cell_type": "code",
   "execution_count": 16,
   "metadata": {},
   "outputs": [],
   "source": [
    "#----Center to VF distance----"
   ]
  },
  {
   "cell_type": "code",
   "execution_count": 17,
   "metadata": {},
   "outputs": [],
   "source": [
    "#Foot of perpendicular calculation\n",
    "def findFoot(center_x, center_y):\n",
    "    temp = -1 * (1 * center_x - 650) \n",
    "    foot_x = temp * 1 + center_x  \n",
    "    foot_y = center_y  \n",
    "    return (foot_x,foot_y)"
   ]
  },
  {
   "cell_type": "code",
   "execution_count": 18,
   "metadata": {},
   "outputs": [],
   "source": [
    "#Dist_left, dist_right calculation from center of each contour to viewfinder \n",
    "vf_top_point = (650, 0)\n",
    "vf_top_point = np.asarray(vf_top_point)\n",
    "vf_bottom_point = (650, 720)\n",
    "vf_bottom_point = np.asarray(vf_bottom_point)\n",
    "lst_dist = []\n",
    "for c in cnts:\n",
    "    x = 266.8\n",
    "    if cv2.contourArea(c) > x:\n",
    "        M = cv2.moments(c)\n",
    "        cX = int(M[\"m10\"] / M[\"m00\"])\n",
    "        cY = int(M[\"m01\"] / M[\"m00\"])\n",
    "        center = (cX,cY)\n",
    "        foot = findFoot(center[0],center[1])\n",
    "        cv2.line(final, center, foot, (255, 0, 0), 3)\n",
    "        center = np.asarray(center)\n",
    "        dist_from_vf = np.cross(vf_bottom_point-vf_top_point, vf_top_point-center)/np.linalg.norm(vf_bottom_point-vf_top_point)\n",
    "        lst_dist.append(dist_from_vf)\n",
    "        cv2.imshow(\"Distance from VF\", final)\n",
    "        cv2.waitKey(0)"
   ]
  },
  {
   "cell_type": "code",
   "execution_count": 19,
   "metadata": {},
   "outputs": [
    {
     "data": {
      "text/plain": [
       "[-614.0,\n",
       " 597.0,\n",
       " 485.0,\n",
       " -501.0,\n",
       " 386.0,\n",
       " -402.0,\n",
       " -313.0,\n",
       " 281.0,\n",
       " -254.0,\n",
       " 207.0,\n",
       " -203.0,\n",
       " -161.0,\n",
       " 144.0,\n",
       " -126.0,\n",
       " 71.0,\n",
       " -553.0]"
      ]
     },
     "execution_count": 19,
     "metadata": {},
     "output_type": "execute_result"
    }
   ],
   "source": [
    "#List of distances from center of each contour to viewfinder \n",
    "#Negative value is dist_left, positive value is dist_right\n",
    "lst_dist"
   ]
  },
  {
   "cell_type": "code",
   "execution_count": null,
   "metadata": {},
   "outputs": [],
   "source": []
  }
 ],
 "metadata": {
  "kernelspec": {
   "display_name": "Python 3",
   "language": "python",
   "name": "python3"
  },
  "language_info": {
   "codemirror_mode": {
    "name": "ipython",
    "version": 3
   },
   "file_extension": ".py",
   "mimetype": "text/x-python",
   "name": "python",
   "nbconvert_exporter": "python",
   "pygments_lexer": "ipython3",
   "version": "3.7.3"
  }
 },
 "nbformat": 4,
 "nbformat_minor": 2
}
